{
 "cells": [
  {
   "cell_type": "markdown",
   "metadata": {},
   "source": [
    "### Множественная линейная регрессия: \n",
    "Количество пострадавших за 2013-2019г. (по месяцам) + Количество пожаров/ Материальный ущерб"
   ]
  },
  {
   "cell_type": "code",
   "execution_count": 2,
   "metadata": {},
   "outputs": [],
   "source": [
    "import numpy as np\n",
    "import pandas as pd\n",
    "from sklearn.linear_model import LinearRegression\n",
    "import scipy as sc\n",
    "import matplotlib.pyplot as plt\n",
    "\n",
    "import warnings\n",
    "warnings.filterwarnings('ignore')"
   ]
  },
  {
   "cell_type": "markdown",
   "metadata": {},
   "source": [
    "#### 1. Работа с данными\n",
    "\n",
    "Проведем чистку данных от выбросов с помощью boxplot"
   ]
  },
  {
   "cell_type": "code",
   "execution_count": 3,
   "metadata": {},
   "outputs": [],
   "source": [
    "data = pd.ExcelFile('data_regression.xlsx')\n",
    "data = data.parse('Лист1')\n",
    "data['Количество пожаров, ед'] = data['Количество пожаров, ед'].astype(int)"
   ]
  },
  {
   "cell_type": "code",
   "execution_count": 4,
   "metadata": {},
   "outputs": [
    {
     "data": {
      "text/plain": [
       "<matplotlib.axes._subplots.AxesSubplot at 0x2eaff1c8f08>"
      ]
     },
     "execution_count": 4,
     "metadata": {},
     "output_type": "execute_result"
    },
    {
     "data": {
      "image/png": "[encoded data removed]",
      "text/plain": [
       "<Figure size 432x288 with 1 Axes>"
      ]
     },
     "metadata": {
      "needs_background": "light"
     },
     "output_type": "display_data"
    }
   ],
   "source": [
    "#data.boxplot(column = 'Материальный ущерб, млн')\n",
    "Q1 =  data['Количество пожаров, ед'].quantile(0.25)\n",
    "Q3 = data['Количество пожаров, ед'].quantile(0.75)\n",
    "IQR = Q3 - Q1\n",
    "data = data[(data['Количество пожаров, ед'] > Q1-1.5*IQR ) & (data['Количество пожаров, ед']< Q3+1.5*IQR )]\n",
    "data.boxplot(column=\"Количество пожаров, ед\")"
   ]
  },
  {
   "cell_type": "code",
   "execution_count": 5,
   "metadata": {},
   "outputs": [
    {
     "data": {
      "text/plain": [
       "<matplotlib.axes._subplots.AxesSubplot at 0x2eaff585b48>"
      ]
     },
     "execution_count": 5,
     "metadata": {},
     "output_type": "execute_result"
    },
    {
     "data": {
      "image/png": "[encoded data removed]",
      "text/plain": [
       "<Figure size 432x288 with 1 Axes>"
      ]
     },
     "metadata": {
      "needs_background": "light"
     },
     "output_type": "display_data"
    }
   ],
   "source": [
    "Q1 =  data['Материальный ущерб, млн'].quantile(0.25)\n",
    "Q3 = data['Материальный ущерб, млн'].quantile(0.75)\n",
    "IQR = Q3 - Q1\n",
    "data = data[(data['Материальный ущерб, млн'] > Q1-1.5*IQR ) & (data['Материальный ущерб, млн']< Q3+1.5*IQR )]\n",
    "data.boxplot(column=\"Материальный ущерб, млн\")"
   ]
  },
  {
   "cell_type": "code",
   "execution_count": 6,
   "metadata": {},
   "outputs": [
    {
     "data": {
      "text/html": [
       "<div>\n",
       "<style scoped>\n",
       "    .dataframe tbody tr th:only-of-type {\n",
       "        vertical-align: middle;\n",
       "    }\n",
       "\n",
       "    .dataframe tbody tr th {\n",
       "        vertical-align: top;\n",
       "    }\n",
       "\n",
       "    .dataframe thead th {\n",
       "        text-align: right;\n",
       "    }\n",
       "</style>\n",
       "<table border=\"1\" class=\"dataframe\">\n",
       "  <thead>\n",
       "    <tr style=\"text-align: right;\">\n",
       "      <th></th>\n",
       "      <th>Дата</th>\n",
       "      <th>Материальный ущерб, млн</th>\n",
       "      <th>Количество пострадавших, чел</th>\n",
       "      <th>Количество пожаров, ед</th>\n",
       "    </tr>\n",
       "  </thead>\n",
       "  <tbody>\n",
       "    <tr>\n",
       "      <th>0</th>\n",
       "      <td>2013-01</td>\n",
       "      <td>1385.290</td>\n",
       "      <td>2576</td>\n",
       "      <td>13840</td>\n",
       "    </tr>\n",
       "    <tr>\n",
       "      <th>1</th>\n",
       "      <td>2013-02</td>\n",
       "      <td>1189.031</td>\n",
       "      <td>2049</td>\n",
       "      <td>11970</td>\n",
       "    </tr>\n",
       "    <tr>\n",
       "      <th>2</th>\n",
       "      <td>2013-03</td>\n",
       "      <td>1147.669</td>\n",
       "      <td>2178</td>\n",
       "      <td>12570</td>\n",
       "    </tr>\n",
       "    <tr>\n",
       "      <th>3</th>\n",
       "      <td>2013-04</td>\n",
       "      <td>1040.049</td>\n",
       "      <td>1855</td>\n",
       "      <td>12820</td>\n",
       "    </tr>\n",
       "    <tr>\n",
       "      <th>4</th>\n",
       "      <td>2013-05</td>\n",
       "      <td>2247.079</td>\n",
       "      <td>1708</td>\n",
       "      <td>14140</td>\n",
       "    </tr>\n",
       "    <tr>\n",
       "      <th>...</th>\n",
       "      <td>...</td>\n",
       "      <td>...</td>\n",
       "      <td>...</td>\n",
       "      <td>...</td>\n",
       "    </tr>\n",
       "    <tr>\n",
       "      <th>66</th>\n",
       "      <td>2018-07</td>\n",
       "      <td>680.883</td>\n",
       "      <td>952</td>\n",
       "      <td>9140</td>\n",
       "    </tr>\n",
       "    <tr>\n",
       "      <th>67</th>\n",
       "      <td>2018-08</td>\n",
       "      <td>848.724</td>\n",
       "      <td>1095</td>\n",
       "      <td>10000</td>\n",
       "    </tr>\n",
       "    <tr>\n",
       "      <th>68</th>\n",
       "      <td>2018-09</td>\n",
       "      <td>1017.661</td>\n",
       "      <td>1075</td>\n",
       "      <td>10130</td>\n",
       "    </tr>\n",
       "    <tr>\n",
       "      <th>69</th>\n",
       "      <td>2018-10</td>\n",
       "      <td>781.745</td>\n",
       "      <td>1308</td>\n",
       "      <td>11200</td>\n",
       "    </tr>\n",
       "    <tr>\n",
       "      <th>71</th>\n",
       "      <td>2018-12</td>\n",
       "      <td>777.647</td>\n",
       "      <td>2133</td>\n",
       "      <td>13590</td>\n",
       "    </tr>\n",
       "  </tbody>\n",
       "</table>\n",
       "<p>66 rows × 4 columns</p>\n",
       "</div>"
      ],
      "text/plain": [
       "       Дата  Материальный ущерб, млн  Количество пострадавших, чел  \\\n",
       "0   2013-01                 1385.290                          2576   \n",
       "1   2013-02                 1189.031                          2049   \n",
       "2   2013-03                 1147.669                          2178   \n",
       "3   2013-04                 1040.049                          1855   \n",
       "4   2013-05                 2247.079                          1708   \n",
       "..      ...                      ...                           ...   \n",
       "66  2018-07                  680.883                           952   \n",
       "67  2018-08                  848.724                          1095   \n",
       "68  2018-09                 1017.661                          1075   \n",
       "69  2018-10                  781.745                          1308   \n",
       "71  2018-12                  777.647                          2133   \n",
       "\n",
       "    Количество пожаров, ед  \n",
       "0                    13840  \n",
       "1                    11970  \n",
       "2                    12570  \n",
       "3                    12820  \n",
       "4                    14140  \n",
       "..                     ...  \n",
       "66                    9140  \n",
       "67                   10000  \n",
       "68                   10130  \n",
       "69                   11200  \n",
       "71                   13590  \n",
       "\n",
       "[66 rows x 4 columns]"
      ]
     },
     "execution_count": 6,
     "metadata": {},
     "output_type": "execute_result"
    }
   ],
   "source": [
    "data"
   ]
  },
  {
   "cell_type": "code",
   "execution_count": 7,
   "metadata": {},
   "outputs": [],
   "source": [
    "victims = data['Количество пострадавших, чел'] #x1\n",
    "fires = data['Количество пожаров, ед']#x2\n",
    "damage = data['Материальный ущерб, млн']#y"
   ]
  },
  {
   "cell_type": "markdown",
   "metadata": {},
   "source": [
    "#### 2. Парная линейная регрессия кол-во пострадавших/материальный ущерб"
   ]
  },
  {
   "cell_type": "code",
   "execution_count": 8,
   "metadata": {},
   "outputs": [
    {
     "name": "stdout",
     "output_type": "stream",
     "text": [
      "a_1 = [849.80975205], b_1 = [0.21666217]\n",
      "Коэффициент детерминации = [0.06066012]\n"
     ]
    }
   ],
   "source": [
    "victims = victims.values.reshape(-1,1)\n",
    "damage = damage.values.reshape(-1,1)\n",
    "\n",
    "linreg = LinearRegression()\n",
    "linreg.fit(victims, damage)\n",
    "damage_pred_1 = linreg.predict(victims)\n",
    "\n",
    "a_1 = linreg.intercept_\n",
    "b_1 = linreg.coef_[0]\n",
    "\n",
    "#коэфф-т детерминации\n",
    "\n",
    "R2_1 = 1 - (sum(pow(damage - damage_pred_1, 2))/ sum(pow(damage - np.mean(damage), 2)))\n",
    "print(f\"a_1 = {a_1}, b_1 = {b_1}\")\n",
    "print(f\"Коэффициент детерминации = {R2_1}\")"
   ]
  },
  {
   "cell_type": "code",
   "execution_count": 9,
   "metadata": {},
   "outputs": [
    {
     "data": {
      "image/png": "[encoded data removed]",
      "text/plain": [
       "<Figure size 432x288 with 1 Axes>"
      ]
     },
     "metadata": {
      "needs_background": "light"
     },
     "output_type": "display_data"
    }
   ],
   "source": [
    "plt.scatter(victims, damage)\n",
    "plt.plot(victims, damage_pred_1,color = 'red', label = 'Y^ = {} + {}*X'.format(*a_1.round(4),*b_1.round(4)))\n",
    "\n",
    "plt.xlabel('Количество пострадавших, ед')\n",
    "plt.ylabel('Материальный ущерб, млн')\n",
    "plt.legend()\n",
    "plt.title('Диаграмма рассеяния')\n",
    "plt.show()"
   ]
  },
  {
   "cell_type": "markdown",
   "metadata": {},
   "source": [
    "#### Парная линейная регрессия кол-во пожаров/материальный ущерб"
   ]
  },
  {
   "cell_type": "code",
   "execution_count": 10,
   "metadata": {},
   "outputs": [
    {
     "name": "stdout",
     "output_type": "stream",
     "text": [
      "a_2 = [388.51644217], b_2 = [0.06823289]\n",
      "Коэффициент детерминации = [0.07604684]\n"
     ]
    }
   ],
   "source": [
    "fires = fires.values.reshape(-1,1)\n",
    "\n",
    "linreg = LinearRegression()\n",
    "linreg.fit(fires, damage)\n",
    "damage_pred_2 = linreg.predict(fires)\n",
    "\n",
    "a_2 = linreg.intercept_\n",
    "b_2 = linreg.coef_[0]\n",
    "\n",
    "#коэфф-т детерминации\n",
    "\n",
    "R2_2 = 1 - sum(pow(damage - damage_pred_2, 2))/ sum(pow(damage - np.mean(damage), 2))\n",
    "print(f\"a_2 = {a_2}, b_2 = {b_2}\")\n",
    "print(f\"Коэффициент детерминации = {R2_2}\")"
   ]
  },
  {
   "cell_type": "code",
   "execution_count": 11,
   "metadata": {},
   "outputs": [
    {
     "data": {
      "image/png": "[encoded data removed]",
      "text/plain": [
       "<Figure size 432x288 with 1 Axes>"
      ]
     },
     "metadata": {
      "needs_background": "light"
     },
     "output_type": "display_data"
    }
   ],
   "source": [
    "plt.scatter(fires, damage)\n",
    "plt.plot(fires, damage_pred_2,color = 'red', label = 'Y^ = {} + {}*X'.format(*a_2.round(4),*b_2.round(4)))\n",
    "\n",
    "plt.xlabel('Количество пожаров, ед')\n",
    "plt.ylabel('Материальный ущерб, млн')\n",
    "plt.legend()\n",
    "plt.title('Диаграмма рассеяния')\n",
    "plt.show()"
   ]
  },
  {
   "cell_type": "markdown",
   "metadata": {},
   "source": [
    "#### 3. Исследование модели на наличие мультиколлинеарности факторов с помощью матрицы факторов"
   ]
  },
  {
   "cell_type": "code",
   "execution_count": 12,
   "metadata": {},
   "outputs": [
    {
     "data": {
      "text/html": [
       "<style  type=\"text/css\" >\n",
       "#T_6a662b0c_6179_11eb_adad_acb57d2b4828row0_col0,#T_6a662b0c_6179_11eb_adad_acb57d2b4828row1_col1,#T_6a662b0c_6179_11eb_adad_acb57d2b4828row2_col2{\n",
       "            background-color:  #b40426;\n",
       "            color:  #f1f1f1;\n",
       "        }#T_6a662b0c_6179_11eb_adad_acb57d2b4828row0_col1,#T_6a662b0c_6179_11eb_adad_acb57d2b4828row0_col2,#T_6a662b0c_6179_11eb_adad_acb57d2b4828row1_col0{\n",
       "            background-color:  #3b4cc0;\n",
       "            color:  #f1f1f1;\n",
       "        }#T_6a662b0c_6179_11eb_adad_acb57d2b4828row1_col2{\n",
       "            background-color:  #f6a385;\n",
       "            color:  #000000;\n",
       "        }#T_6a662b0c_6179_11eb_adad_acb57d2b4828row2_col0{\n",
       "            background-color:  #465ecf;\n",
       "            color:  #f1f1f1;\n",
       "        }#T_6a662b0c_6179_11eb_adad_acb57d2b4828row2_col1{\n",
       "            background-color:  #f59f80;\n",
       "            color:  #000000;\n",
       "        }</style><table id=\"T_6a662b0c_6179_11eb_adad_acb57d2b4828\" ><thead>    <tr>        <th class=\"blank level0\" ></th>        <th class=\"col_heading level0 col0\" >Материальный ущерб, млн</th>        <th class=\"col_heading level0 col1\" >Количество пострадавших, чел</th>        <th class=\"col_heading level0 col2\" >Количество пожаров, ед</th>    </tr></thead><tbody>\n",
       "                <tr>\n",
       "                        <th id=\"T_6a662b0c_6179_11eb_adad_acb57d2b4828level0_row0\" class=\"row_heading level0 row0\" >Материальный ущерб, млн</th>\n",
       "                        <td id=\"T_6a662b0c_6179_11eb_adad_acb57d2b4828row0_col0\" class=\"data row0 col0\" >1.000000</td>\n",
       "                        <td id=\"T_6a662b0c_6179_11eb_adad_acb57d2b4828row0_col1\" class=\"data row0 col1\" >0.246293</td>\n",
       "                        <td id=\"T_6a662b0c_6179_11eb_adad_acb57d2b4828row0_col2\" class=\"data row0 col2\" >0.275766</td>\n",
       "            </tr>\n",
       "            <tr>\n",
       "                        <th id=\"T_6a662b0c_6179_11eb_adad_acb57d2b4828level0_row1\" class=\"row_heading level0 row1\" >Количество пострадавших, чел</th>\n",
       "                        <td id=\"T_6a662b0c_6179_11eb_adad_acb57d2b4828row1_col0\" class=\"data row1 col0\" >0.246293</td>\n",
       "                        <td id=\"T_6a662b0c_6179_11eb_adad_acb57d2b4828row1_col1\" class=\"data row1 col1\" >1.000000</td>\n",
       "                        <td id=\"T_6a662b0c_6179_11eb_adad_acb57d2b4828row1_col2\" class=\"data row1 col2\" >0.801451</td>\n",
       "            </tr>\n",
       "            <tr>\n",
       "                        <th id=\"T_6a662b0c_6179_11eb_adad_acb57d2b4828level0_row2\" class=\"row_heading level0 row2\" >Количество пожаров, ед</th>\n",
       "                        <td id=\"T_6a662b0c_6179_11eb_adad_acb57d2b4828row2_col0\" class=\"data row2 col0\" >0.275766</td>\n",
       "                        <td id=\"T_6a662b0c_6179_11eb_adad_acb57d2b4828row2_col1\" class=\"data row2 col1\" >0.801451</td>\n",
       "                        <td id=\"T_6a662b0c_6179_11eb_adad_acb57d2b4828row2_col2\" class=\"data row2 col2\" >1.000000</td>\n",
       "            </tr>\n",
       "    </tbody></table>"
      ],
      "text/plain": [
       "<pandas.io.formats.style.Styler at 0x2eaff6dad48>"
      ]
     },
     "execution_count": 12,
     "metadata": {},
     "output_type": "execute_result"
    }
   ],
   "source": [
    "corr = data.corr()\n",
    "corr.style.background_gradient(cmap='coolwarm')"
   ]
  },
  {
   "cell_type": "markdown",
   "metadata": {},
   "source": [
    "#### 4. Вычисление коэффициентов уравнения множественной линейной регрессии в матричной форме, запишем уравнение регрессии в развёрнутой форме."
   ]
  },
  {
   "cell_type": "code",
   "execution_count": 17,
   "metadata": {},
   "outputs": [
    {
     "data": {
      "text/html": [
       "<div>\n",
       "<style scoped>\n",
       "    .dataframe tbody tr th:only-of-type {\n",
       "        vertical-align: middle;\n",
       "    }\n",
       "\n",
       "    .dataframe tbody tr th {\n",
       "        vertical-align: top;\n",
       "    }\n",
       "\n",
       "    .dataframe thead th {\n",
       "        text-align: right;\n",
       "    }\n",
       "</style>\n",
       "<table border=\"1\" class=\"dataframe\">\n",
       "  <thead>\n",
       "    <tr style=\"text-align: right;\">\n",
       "      <th></th>\n",
       "      <th>0</th>\n",
       "      <th>1</th>\n",
       "      <th>2</th>\n",
       "      <th>3</th>\n",
       "      <th>4</th>\n",
       "      <th>5</th>\n",
       "      <th>6</th>\n",
       "      <th>7</th>\n",
       "      <th>8</th>\n",
       "      <th>9</th>\n",
       "      <th>...</th>\n",
       "      <th>61</th>\n",
       "      <th>62</th>\n",
       "      <th>63</th>\n",
       "      <th>64</th>\n",
       "      <th>65</th>\n",
       "      <th>66</th>\n",
       "      <th>67</th>\n",
       "      <th>68</th>\n",
       "      <th>69</th>\n",
       "      <th>71</th>\n",
       "    </tr>\n",
       "  </thead>\n",
       "  <tbody>\n",
       "    <tr>\n",
       "      <th>1</th>\n",
       "      <td>1</td>\n",
       "      <td>1</td>\n",
       "      <td>1</td>\n",
       "      <td>1</td>\n",
       "      <td>1</td>\n",
       "      <td>1</td>\n",
       "      <td>1</td>\n",
       "      <td>1</td>\n",
       "      <td>1</td>\n",
       "      <td>1</td>\n",
       "      <td>...</td>\n",
       "      <td>1</td>\n",
       "      <td>1</td>\n",
       "      <td>1</td>\n",
       "      <td>1</td>\n",
       "      <td>1</td>\n",
       "      <td>1</td>\n",
       "      <td>1</td>\n",
       "      <td>1</td>\n",
       "      <td>1</td>\n",
       "      <td>1</td>\n",
       "    </tr>\n",
       "    <tr>\n",
       "      <th>Количество пожаров, ед</th>\n",
       "      <td>13840</td>\n",
       "      <td>11970</td>\n",
       "      <td>12570</td>\n",
       "      <td>12820</td>\n",
       "      <td>14140</td>\n",
       "      <td>12180</td>\n",
       "      <td>10990</td>\n",
       "      <td>11210</td>\n",
       "      <td>11400</td>\n",
       "      <td>13330</td>\n",
       "      <td>...</td>\n",
       "      <td>9610</td>\n",
       "      <td>9970</td>\n",
       "      <td>10900</td>\n",
       "      <td>12230</td>\n",
       "      <td>10280</td>\n",
       "      <td>9140</td>\n",
       "      <td>10000</td>\n",
       "      <td>10130</td>\n",
       "      <td>11200</td>\n",
       "      <td>13590</td>\n",
       "    </tr>\n",
       "    <tr>\n",
       "      <th>Количество пострадавших, чел</th>\n",
       "      <td>2576</td>\n",
       "      <td>2049</td>\n",
       "      <td>2178</td>\n",
       "      <td>1855</td>\n",
       "      <td>1708</td>\n",
       "      <td>1444</td>\n",
       "      <td>1121</td>\n",
       "      <td>1210</td>\n",
       "      <td>1420</td>\n",
       "      <td>1821</td>\n",
       "      <td>...</td>\n",
       "      <td>1620</td>\n",
       "      <td>1750</td>\n",
       "      <td>1351</td>\n",
       "      <td>1356</td>\n",
       "      <td>1082</td>\n",
       "      <td>952</td>\n",
       "      <td>1095</td>\n",
       "      <td>1075</td>\n",
       "      <td>1308</td>\n",
       "      <td>2133</td>\n",
       "    </tr>\n",
       "  </tbody>\n",
       "</table>\n",
       "<p>3 rows × 66 columns</p>\n",
       "</div>"
      ],
      "text/plain": [
       "                                 0      1      2      3      4      5      6   \\\n",
       "1                                 1      1      1      1      1      1      1   \n",
       "Количество пожаров, ед        13840  11970  12570  12820  14140  12180  10990   \n",
       "Количество пострадавших, чел   2576   2049   2178   1855   1708   1444   1121   \n",
       "\n",
       "                                 7      8      9   ...    61    62     63  \\\n",
       "1                                 1      1      1  ...     1     1      1   \n",
       "Количество пожаров, ед        11210  11400  13330  ...  9610  9970  10900   \n",
       "Количество пострадавших, чел   1210   1420   1821  ...  1620  1750   1351   \n",
       "\n",
       "                                 64     65    66     67     68     69     71  \n",
       "1                                 1      1     1      1      1      1      1  \n",
       "Количество пожаров, ед        12230  10280  9140  10000  10130  11200  13590  \n",
       "Количество пострадавших, чел   1356   1082   952   1095   1075   1308   2133  \n",
       "\n",
       "[3 rows x 66 columns]"
      ]
     },
     "execution_count": 17,
     "metadata": {},
     "output_type": "execute_result"
    }
   ],
   "source": [
    "# xT\n",
    "X_T = data.drop(['Материальный ущерб, млн', 'Дата'], axis = 1)\n",
    "X_T = X_T.transpose()\n",
    "X_T.loc['1'] = int(1)\n",
    "X_T = X_T.sort_index()\n",
    "X_T"
   ]
  },
  {
   "cell_type": "code",
   "execution_count": 18,
   "metadata": {},
   "outputs": [
    {
     "data": {
      "text/plain": [
       "array([[        66,     781370,     105555],\n",
       "       [    781370, 9405960500, 1284682910],\n",
       "       [    105555, 1284682910,  181107567]], dtype=int64)"
      ]
     },
     "execution_count": 18,
     "metadata": {},
     "output_type": "execute_result"
    }
   ],
   "source": [
    "#xTx\n",
    "X = X_T.transpose()\n",
    "xTx = X_T.to_numpy() @ X.to_numpy()\n",
    "xTx"
   ]
  },
  {
   "cell_type": "code",
   "execution_count": 19,
   "metadata": {},
   "outputs": [
    {
     "data": {
      "text/plain": [
       "array([[7.89572190e+04],\n",
       "       [9.45370967e+08],\n",
       "       [1.28940827e+08]])"
      ]
     },
     "execution_count": 19,
     "metadata": {},
     "output_type": "execute_result"
    }
   ],
   "source": [
    "#xTy\n",
    "xTy = X_T.to_numpy() @ damage\n",
    "xTy"
   ]
  },
  {
   "cell_type": "code",
   "execution_count": 20,
   "metadata": {},
   "outputs": [
    {
     "data": {
      "text/plain": [
       "matrix([[ 1.17742137e+00, -1.31035062e-04,  2.43257595e-04],\n",
       "        [-1.31035062e-04,  1.79948192e-08, -5.12746701e-08],\n",
       "        [ 2.43257595e-04, -5.12746701e-08,  2.27459502e-07]])"
      ]
     },
     "execution_count": 20,
     "metadata": {},
     "output_type": "execute_result"
    }
   ],
   "source": [
    "#xTx(-1)\n",
    "xTx = np.asmatrix(xTx)\n",
    "xTx_inv = np.linalg.inv(xTx)\n",
    "xTx_inv"
   ]
  },
  {
   "cell_type": "code",
   "execution_count": 21,
   "metadata": {},
   "outputs": [],
   "source": [
    "#оценка_параметров\n",
    "beta = xTx_inv @ xTy\n",
    "beta= np.squeeze(np.asarray(beta))"
   ]
  },
  {
   "cell_type": "code",
   "execution_count": 22,
   "metadata": {},
   "outputs": [
    {
     "data": {
      "text/plain": [
       "array([4.55009741e+02, 5.42172051e-02, 6.21749659e-02])"
      ]
     },
     "execution_count": 22,
     "metadata": {},
     "output_type": "execute_result"
    }
   ],
   "source": [
    "beta"
   ]
  },
  {
   "cell_type": "code",
   "execution_count": 23,
   "metadata": {},
   "outputs": [
    {
     "name": "stdout",
     "output_type": "stream",
     "text": [
      "Уравнение регрессии: Y^ = 455.010 + 0.054 * X_1 + 0.062 * X_2\n"
     ]
    }
   ],
   "source": [
    "print(f'Уравнение регрессии: Y^ = {beta[0]:.3f} + {beta[1]:.3f} * X_1 + {beta[2]:.3f} * X_2')"
   ]
  },
  {
   "cell_type": "markdown",
   "metadata": {},
   "source": [
    "#### 5.\tРасчетные значения показателя и остатки"
   ]
  },
  {
   "cell_type": "code",
   "execution_count": 24,
   "metadata": {},
   "outputs": [],
   "source": [
    "damage_pred_xx = beta[0] + beta[1]*fires + beta[2]*victims\n",
    "\n",
    "E_x1 = damage - damage_pred_2\n",
    "E_x2 = damage - damage_pred_1\n",
    "E_xx = damage - damage_pred_xx"
   ]
  },
  {
   "cell_type": "code",
   "execution_count": 25,
   "metadata": {},
   "outputs": [
    {
     "data": {
      "image/png": "[encoded data removed]",
      "text/plain": [
       "<Figure size 432x288 with 1 Axes>"
      ]
     },
     "metadata": {
      "needs_background": "light"
     },
     "output_type": "display_data"
    }
   ],
   "source": [
    "n = [i for i in range(0,len(damage))]\n",
    "plt.scatter(n, E_x1)\n",
    "\n",
    "plt.ylabel('Остатки')\n",
    "plt.title('График остатков кол-во пожаров/мат.ущерб')\n",
    "plt.show()"
   ]
  },
  {
   "cell_type": "code",
   "execution_count": 26,
   "metadata": {},
   "outputs": [
    {
     "data": {
      "image/png": "[encoded data removed]",
      "text/plain": [
       "<Figure size 432x288 with 1 Axes>"
      ]
     },
     "metadata": {
      "needs_background": "light"
     },
     "output_type": "display_data"
    }
   ],
   "source": [
    "n = [i for i in range(0,len(damage))]\n",
    "plt.scatter(n, E_x2)\n",
    "\n",
    "plt.ylabel('Остатки')\n",
    "plt.title('График остатков кол-во пострадавших/мат.ущерб')\n",
    "plt.show()"
   ]
  },
  {
   "cell_type": "code",
   "execution_count": 27,
   "metadata": {},
   "outputs": [
    {
     "data": {
      "image/png": "[encoded data removed]",
      "text/plain": [
       "<Figure size 432x288 with 1 Axes>"
      ]
     },
     "metadata": {
      "needs_background": "light"
     },
     "output_type": "display_data"
    }
   ],
   "source": [
    "n = [i for i in range(0,len(damage))]\n",
    "plt.scatter(n, E_xx)\n",
    "\n",
    "plt.ylabel('Остатки')\n",
    "plt.title('График остатков МЛР')\n",
    "plt.show()"
   ]
  },
  {
   "cell_type": "markdown",
   "metadata": {},
   "source": [
    "#### 6.\tВычисление и сравнение частных и парных коэффициентов корреляции."
   ]
  },
  {
   "cell_type": "code",
   "execution_count": 28,
   "metadata": {},
   "outputs": [
    {
     "name": "stdout",
     "output_type": "stream",
     "text": [
      "КЧК:\n",
      " r_yx1|x2 = 0.1352125021438009 \n",
      " r_yx2|x1 = 0.04397522959957751\n"
     ]
    }
   ],
   "source": [
    "# парные корреляции\n",
    "\n",
    "r_yx1 = 0.275766\n",
    "r_yx2 = 0.246293\n",
    "r_x1x2 = 0.801451\n",
    "\n",
    "#частные корреляции\n",
    "\n",
    "r_yx1_x2 = (r_yx1 - r_yx2*r_x1x2)/pow((1 - pow(r_yx2,2))*(1 - pow(r_x1x2,2)), 0.5)\n",
    "r_yx2_x1 = (r_yx2 - r_yx1*r_x1x2)/pow((1 - pow(r_yx1,2))*(1 - pow(r_x1x2,2)), 0.5)\n",
    "print(f'КЧК:\\n r_yx1|x2 = {r_yx1_x2} \\n r_yx2|x1 = {r_yx2_x1}')"
   ]
  },
  {
   "cell_type": "markdown",
   "metadata": {},
   "source": [
    "#### 7.\tНайдем величину средней относительной ошибки аппроксимации и оценку для дисперсии остатков."
   ]
  },
  {
   "cell_type": "code",
   "execution_count": 29,
   "metadata": {},
   "outputs": [
    {
     "name": "stdout",
     "output_type": "stream",
     "text": [
      "25.53826897420431\n"
     ]
    }
   ],
   "source": [
    "#средняя относительная ошибка аппроксимации\n",
    "\n",
    "A = sum(abs(damage - damage_pred_xx)/abs(damage))*1/len(damage)*100\n",
    "print(*A)"
   ]
  },
  {
   "cell_type": "code",
   "execution_count": 30,
   "metadata": {},
   "outputs": [
    {
     "data": {
      "image/png": "[encoded data removed]",
      "text/plain": [
       "<Figure size 432x288 with 1 Axes>"
      ]
     },
     "metadata": {
      "needs_background": "light"
     },
     "output_type": "display_data"
    }
   ],
   "source": [
    "plt.plot(n, damage, label = 'исходные значения')\n",
    "plt.plot(n, damage_pred_xx,color = 'red', label = 'прогнозные значения')\n",
    "\n",
    "plt.ylabel('Материальный ущерб, млн')\n",
    "plt.legend()\n",
    "plt.title('Прогнозные и исходные значения')\n",
    "plt.show()"
   ]
  },
  {
   "cell_type": "markdown",
   "metadata": {},
   "source": [
    "#### 8.\tВычислим множественный коэффициент детерминации и сравним его  с коэффициентами детерминации найденных ранее ПЛ. Вычислим коэффициент детерминации Тейла."
   ]
  },
  {
   "cell_type": "code",
   "execution_count": 31,
   "metadata": {},
   "outputs": [
    {
     "name": "stdout",
     "output_type": "stream",
     "text": [
      "Множественный коэфф. детерминации =  [0.07783357]\n",
      "Коэффициент детерминации пострадавшие/ущерб= [0.06066012]\n",
      "Коэффициент детерминации пожары/ущерб= [0.07604684]\n"
     ]
    }
   ],
   "source": [
    "R_xx = 1 - sum(pow(damage - damage_pred_xx, 2))/sum(pow(damage - np.mean(damage),2))\n",
    "print('Множественный коэфф. детерминации = ', R_xx)\n",
    "print(f\"Коэффициент детерминации пострадавшие/ущерб= {R2_1}\")\n",
    "print(f\"Коэффициент детерминации пожары/ущерб= {R2_2}\")"
   ]
  },
  {
   "cell_type": "code",
   "execution_count": 32,
   "metadata": {},
   "outputs": [
    {
     "name": "stdout",
     "output_type": "stream",
     "text": [
      "Коэффициент детерминации Тейла =  [0.06342472]\n"
     ]
    }
   ],
   "source": [
    "# Коэффициент Тейла\n",
    "n = len(damage)\n",
    "R_adj = 1 -(1 - R_xx)*(n-1)/(n-2)\n",
    "print('Коэффициент детерминации Тейла = ', R_adj)"
   ]
  },
  {
   "cell_type": "code",
   "execution_count": 33,
   "metadata": {},
   "outputs": [
    {
     "data": {
      "text/plain": [
       "66"
      ]
     },
     "execution_count": 33,
     "metadata": {},
     "output_type": "execute_result"
    }
   ],
   "source": [
    "n"
   ]
  },
  {
   "cell_type": "markdown",
   "metadata": {},
   "source": [
    "#### 9. Проверим статистическую значимость полученных значений параметров регрессии с помощью критерия Стьюдента и критерия Фишера."
   ]
  },
  {
   "cell_type": "code",
   "execution_count": 34,
   "metadata": {},
   "outputs": [
    {
     "name": "stdout",
     "output_type": "stream",
     "text": [
      "F_stat =  0.19199213673586416 < F_cr =  3.15  => Н0 принимается => построение уравнения МЛР признается статистически не значимым\n"
     ]
    }
   ],
   "source": [
    "# Критерий Фишера\n",
    "\n",
    "F = pow(R_xx,2) * (n - 2 - 1)/((1 - pow(R_xx, 2))* 2)\n",
    "F_cr = 3.15 #F(2, 63)\n",
    "\n",
    "print('F_stat = ', *F, '< F_cr = ', F_cr, ' => Н0 принимается => построение уравнения МЛР признается статистически не значимым')"
   ]
  },
  {
   "cell_type": "code",
   "execution_count": 35,
   "metadata": {},
   "outputs": [
    {
     "name": "stdout",
     "output_type": "stream",
     "text": [
      "[373.13753181] [0.05005445] [0.17795942] [404.88798761] [1.08316458] [0.34937722] [1.12379165]\n"
     ]
    }
   ],
   "source": [
    "# Критерий Стьюдента\n",
    "\n",
    "s_res = pow(sum(pow(E_xx, 2))/(len(damage)- 2 - 1), 0.5)\n",
    "\n",
    "m_b1 = s_res * pow(xTx_inv[1,1], 0.5)\n",
    "m_b2 = s_res * pow(xTx_inv[2,2], 0.5)\n",
    "m_a = s_res * pow(xTx_inv[0,0], 0.5)\n",
    "\n",
    "t_b1 = beta[1]/m_b1\n",
    "t_b2 = beta[2]/m_b2\n",
    "t_a = beta[0]/m_a\n",
    "\n",
    "t_cr = 1.998340543\n",
    "print(s_res, m_b1, m_b2, m_a, t_b1, t_b2, t_a)"
   ]
  },
  {
   "cell_type": "code",
   "execution_count": 36,
   "metadata": {},
   "outputs": [
    {
     "name": "stdout",
     "output_type": "stream",
     "text": [
      "t_a =  [1.12379165] < t_cr =  1.998340543\n",
      "t_b1 =  [1.08316458] < t_cr =  1.998340543\n",
      "t_b2 =  [0.34937722] < t_cr =  1.998340543\n"
     ]
    }
   ],
   "source": [
    "print(\"t_a = \", t_a, \"< t_cr = \", t_cr)\n",
    "print(\"t_b1 = \", t_b1, \"< t_cr = \", t_cr)\n",
    "print(\"t_b2 = \", t_b2, \"< t_cr = \", t_cr)"
   ]
  },
  {
   "cell_type": "markdown",
   "metadata": {},
   "source": [
    "H0 (β=0) принимается, оценки a, b1, b2 параметров a, β1, β2,  статистически не значимы"
   ]
  },
  {
   "cell_type": "markdown",
   "metadata": {},
   "source": [
    "#### 10. Построим точечный прогноз значения y для фиксированного x. Вычислим стандартную ошибку и доверительный интервал полученного прогноза."
   ]
  },
  {
   "cell_type": "code",
   "execution_count": 37,
   "metadata": {},
   "outputs": [
    {
     "name": "stdout",
     "output_type": "stream",
     "text": [
      "[13750] [2146]\n"
     ]
    }
   ],
   "source": [
    "x_fix_1 = fires[30]\n",
    "x_fix_2 = victims[30]\n",
    "print(x_fix_1, x_fix_2)"
   ]
  },
  {
   "cell_type": "code",
   "execution_count": 38,
   "metadata": {},
   "outputs": [
    {
     "name": "stdout",
     "output_type": "stream",
     "text": [
      "Прогнозное значение  [1333.92378826] Реальное значение  [754.519]\n"
     ]
    }
   ],
   "source": [
    "x_fix_1 = fires[30]\n",
    "x_fix_2 = victims[30]\n",
    "\n",
    "n = len(victims)\n",
    "\n",
    "y_p = beta[0] + beta[1] * x_fix_1 + beta[2] * x_fix_2\n",
    "print(\"Прогнозное значение \",y_p, \"Реальное значение \", damage[30])"
   ]
  },
  {
   "cell_type": "code",
   "execution_count": 39,
   "metadata": {},
   "outputs": [
    {
     "name": "stdout",
     "output_type": "stream",
     "text": [
      "Оценка среднеквадратического отклонения [76.20826559]\n"
     ]
    }
   ],
   "source": [
    "x = np.array([1, *x_fix_1, *x_fix_2])\n",
    "x_T = x.transpose()\n",
    "x_T = x_T.reshape(1,3)\n",
    "x = x.reshape(3,1)\n",
    "\n",
    "dot = x_T * xTx_inv * x\n",
    "dot = np.squeeze(np.asarray(dot))\n",
    "\n",
    "s_e = s_res * pow(dot, 0.5)\n",
    "print(\"Оценка среднеквадратического отклонения\", s_e)"
   ]
  },
  {
   "cell_type": "code",
   "execution_count": 40,
   "metadata": {},
   "outputs": [
    {
     "name": "stdout",
     "output_type": "stream",
     "text": [
      "[1181.63372142]  ∈ y_p ∈  [1486.2138551]\n"
     ]
    }
   ],
   "source": [
    "# доверительный интервал\n",
    "print(y_p - t_cr*s_e, \" ∈ y_p ∈ \", y_p + t_cr*s_e)"
   ]
  }
 ],
 "metadata": {
  "kernelspec": {
   "display_name": "Python 3",
   "language": "python",
   "name": "python3"
  },
  "language_info": {
   "codemirror_mode": {
    "name": "ipython",
    "version": 3
   },
   "file_extension": ".py",
   "mimetype": "text/x-python",
   "name": "python",
   "nbconvert_exporter": "python",
   "pygments_lexer": "ipython3",
   "version": "3.7.7"
  }
 },
 "nbformat": 4,
 "nbformat_minor": 4
}

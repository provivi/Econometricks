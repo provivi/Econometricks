{
 "cells": [
  {
   "cell_type": "markdown",
   "metadata": {},
   "source": [
    "Парная линейная регрессия на примере данных: Количество пострадавших за 2013-2019г. (по месяцам)/ материальный ущерб"
   ]
  },
  {
   "cell_type": "code",
   "execution_count": 6,
   "metadata": {},
   "outputs": [],
   "source": [
    "import numpy as np\n",
    "import pandas as pd\n",
    "from sklearn.linear_model import LinearRegression\n",
    "import scipy as sc\n",
    "import matplotlib.pyplot as plt\n",
    "\n",
    "import warnings\n",
    "warnings.filterwarnings('ignore')"
   ]
  },
  {
   "cell_type": "code",
   "execution_count": 7,
   "metadata": {},
   "outputs": [
    {
     "data": {
      "text/html": [
       "<div>\n",
       "<style scoped>\n",
       "    .dataframe tbody tr th:only-of-type {\n",
       "        vertical-align: middle;\n",
       "    }\n",
       "\n",
       "    .dataframe tbody tr th {\n",
       "        vertical-align: top;\n",
       "    }\n",
       "\n",
       "    .dataframe thead th {\n",
       "        text-align: right;\n",
       "    }\n",
       "</style>\n",
       "<table border=\"1\" class=\"dataframe\">\n",
       "  <thead>\n",
       "    <tr style=\"text-align: right;\">\n",
       "      <th></th>\n",
       "      <th>Дата</th>\n",
       "      <th>Материальный ущерб, млн</th>\n",
       "      <th>Количество пострадавших, чел</th>\n",
       "      <th>Количество пожаров, ед</th>\n",
       "    </tr>\n",
       "  </thead>\n",
       "  <tbody>\n",
       "    <tr>\n",
       "      <th>0</th>\n",
       "      <td>2013-01</td>\n",
       "      <td>1385.290</td>\n",
       "      <td>2576</td>\n",
       "      <td>13840.0</td>\n",
       "    </tr>\n",
       "    <tr>\n",
       "      <th>1</th>\n",
       "      <td>2013-02</td>\n",
       "      <td>1189.031</td>\n",
       "      <td>2049</td>\n",
       "      <td>11970.0</td>\n",
       "    </tr>\n",
       "    <tr>\n",
       "      <th>2</th>\n",
       "      <td>2013-03</td>\n",
       "      <td>1147.669</td>\n",
       "      <td>2178</td>\n",
       "      <td>12570.0</td>\n",
       "    </tr>\n",
       "    <tr>\n",
       "      <th>3</th>\n",
       "      <td>2013-04</td>\n",
       "      <td>1040.049</td>\n",
       "      <td>1855</td>\n",
       "      <td>12820.0</td>\n",
       "    </tr>\n",
       "    <tr>\n",
       "      <th>4</th>\n",
       "      <td>2013-05</td>\n",
       "      <td>2247.079</td>\n",
       "      <td>1708</td>\n",
       "      <td>14140.0</td>\n",
       "    </tr>\n",
       "    <tr>\n",
       "      <th>...</th>\n",
       "      <td>...</td>\n",
       "      <td>...</td>\n",
       "      <td>...</td>\n",
       "      <td>...</td>\n",
       "    </tr>\n",
       "    <tr>\n",
       "      <th>79</th>\n",
       "      <td>2019-08</td>\n",
       "      <td>1608.944</td>\n",
       "      <td>1134</td>\n",
       "      <td>32550.0</td>\n",
       "    </tr>\n",
       "    <tr>\n",
       "      <th>80</th>\n",
       "      <td>2019-09</td>\n",
       "      <td>1165.206</td>\n",
       "      <td>1358</td>\n",
       "      <td>33440.0</td>\n",
       "    </tr>\n",
       "    <tr>\n",
       "      <th>81</th>\n",
       "      <td>2019-10</td>\n",
       "      <td>1102.646</td>\n",
       "      <td>1342</td>\n",
       "      <td>30270.0</td>\n",
       "    </tr>\n",
       "    <tr>\n",
       "      <th>82</th>\n",
       "      <td>2019-11</td>\n",
       "      <td>1179.242</td>\n",
       "      <td>1775</td>\n",
       "      <td>27570.0</td>\n",
       "    </tr>\n",
       "    <tr>\n",
       "      <th>83</th>\n",
       "      <td>2019-12</td>\n",
       "      <td>2660.780</td>\n",
       "      <td>1834</td>\n",
       "      <td>20820.0</td>\n",
       "    </tr>\n",
       "  </tbody>\n",
       "</table>\n",
       "<p>84 rows × 4 columns</p>\n",
       "</div>"
      ],
      "text/plain": [
       "       Дата  Материальный ущерб, млн  Количество пострадавших, чел  \\\n",
       "0   2013-01                 1385.290                          2576   \n",
       "1   2013-02                 1189.031                          2049   \n",
       "2   2013-03                 1147.669                          2178   \n",
       "3   2013-04                 1040.049                          1855   \n",
       "4   2013-05                 2247.079                          1708   \n",
       "..      ...                      ...                           ...   \n",
       "79  2019-08                 1608.944                          1134   \n",
       "80  2019-09                 1165.206                          1358   \n",
       "81  2019-10                 1102.646                          1342   \n",
       "82  2019-11                 1179.242                          1775   \n",
       "83  2019-12                 2660.780                          1834   \n",
       "\n",
       "    Количество пожаров, ед  \n",
       "0                  13840.0  \n",
       "1                  11970.0  \n",
       "2                  12570.0  \n",
       "3                  12820.0  \n",
       "4                  14140.0  \n",
       "..                     ...  \n",
       "79                 32550.0  \n",
       "80                 33440.0  \n",
       "81                 30270.0  \n",
       "82                 27570.0  \n",
       "83                 20820.0  \n",
       "\n",
       "[84 rows x 4 columns]"
      ]
     },
     "execution_count": 7,
     "metadata": {},
     "output_type": "execute_result"
    }
   ],
   "source": [
    "#чтение данных\n",
    "data = pd.ExcelFile('data_regression.xlsx')\n",
    "data = data.parse('Лист1')\n",
    "data"
   ]
  },
  {
   "cell_type": "code",
   "execution_count": 8,
   "metadata": {},
   "outputs": [],
   "source": [
    "#удаляем выбросы\n",
    "from scipy import stats\n",
    "data = data.drop('Дата', axis = 1)\n",
    "data = data[(np.abs(stats.zscore(data)) < 2).all(axis=1)]"
   ]
  },
  {
   "cell_type": "code",
   "execution_count": 9,
   "metadata": {},
   "outputs": [
    {
     "data": {
      "text/html": [
       "<div>\n",
       "<style scoped>\n",
       "    .dataframe tbody tr th:only-of-type {\n",
       "        vertical-align: middle;\n",
       "    }\n",
       "\n",
       "    .dataframe tbody tr th {\n",
       "        vertical-align: top;\n",
       "    }\n",
       "\n",
       "    .dataframe thead th {\n",
       "        text-align: right;\n",
       "    }\n",
       "</style>\n",
       "<table border=\"1\" class=\"dataframe\">\n",
       "  <thead>\n",
       "    <tr style=\"text-align: right;\">\n",
       "      <th></th>\n",
       "      <th>Материальный ущерб, млн</th>\n",
       "      <th>Количество пострадавших, чел</th>\n",
       "      <th>Количество пожаров, ед</th>\n",
       "    </tr>\n",
       "  </thead>\n",
       "  <tbody>\n",
       "    <tr>\n",
       "      <th>1</th>\n",
       "      <td>1189.031</td>\n",
       "      <td>2049</td>\n",
       "      <td>11970.0</td>\n",
       "    </tr>\n",
       "    <tr>\n",
       "      <th>2</th>\n",
       "      <td>1147.669</td>\n",
       "      <td>2178</td>\n",
       "      <td>12570.0</td>\n",
       "    </tr>\n",
       "    <tr>\n",
       "      <th>3</th>\n",
       "      <td>1040.049</td>\n",
       "      <td>1855</td>\n",
       "      <td>12820.0</td>\n",
       "    </tr>\n",
       "    <tr>\n",
       "      <th>4</th>\n",
       "      <td>2247.079</td>\n",
       "      <td>1708</td>\n",
       "      <td>14140.0</td>\n",
       "    </tr>\n",
       "    <tr>\n",
       "      <th>5</th>\n",
       "      <td>898.432</td>\n",
       "      <td>1444</td>\n",
       "      <td>12180.0</td>\n",
       "    </tr>\n",
       "    <tr>\n",
       "      <th>...</th>\n",
       "      <td>...</td>\n",
       "      <td>...</td>\n",
       "      <td>...</td>\n",
       "    </tr>\n",
       "    <tr>\n",
       "      <th>79</th>\n",
       "      <td>1608.944</td>\n",
       "      <td>1134</td>\n",
       "      <td>32550.0</td>\n",
       "    </tr>\n",
       "    <tr>\n",
       "      <th>80</th>\n",
       "      <td>1165.206</td>\n",
       "      <td>1358</td>\n",
       "      <td>33440.0</td>\n",
       "    </tr>\n",
       "    <tr>\n",
       "      <th>81</th>\n",
       "      <td>1102.646</td>\n",
       "      <td>1342</td>\n",
       "      <td>30270.0</td>\n",
       "    </tr>\n",
       "    <tr>\n",
       "      <th>82</th>\n",
       "      <td>1179.242</td>\n",
       "      <td>1775</td>\n",
       "      <td>27570.0</td>\n",
       "    </tr>\n",
       "    <tr>\n",
       "      <th>83</th>\n",
       "      <td>2660.780</td>\n",
       "      <td>1834</td>\n",
       "      <td>20820.0</td>\n",
       "    </tr>\n",
       "  </tbody>\n",
       "</table>\n",
       "<p>73 rows × 3 columns</p>\n",
       "</div>"
      ],
      "text/plain": [
       "    Материальный ущерб, млн  Количество пострадавших, чел  \\\n",
       "1                  1189.031                          2049   \n",
       "2                  1147.669                          2178   \n",
       "3                  1040.049                          1855   \n",
       "4                  2247.079                          1708   \n",
       "5                   898.432                          1444   \n",
       "..                      ...                           ...   \n",
       "79                 1608.944                          1134   \n",
       "80                 1165.206                          1358   \n",
       "81                 1102.646                          1342   \n",
       "82                 1179.242                          1775   \n",
       "83                 2660.780                          1834   \n",
       "\n",
       "    Количество пожаров, ед  \n",
       "1                  11970.0  \n",
       "2                  12570.0  \n",
       "3                  12820.0  \n",
       "4                  14140.0  \n",
       "5                  12180.0  \n",
       "..                     ...  \n",
       "79                 32550.0  \n",
       "80                 33440.0  \n",
       "81                 30270.0  \n",
       "82                 27570.0  \n",
       "83                 20820.0  \n",
       "\n",
       "[73 rows x 3 columns]"
      ]
     },
     "execution_count": 9,
     "metadata": {},
     "output_type": "execute_result"
    }
   ],
   "source": [
    "data"
   ]
  },
  {
   "cell_type": "code",
   "execution_count": 10,
   "metadata": {},
   "outputs": [],
   "source": [
    "victims = data['Количество пострадавших, чел'] \n",
    "damage = data['Материальный ущерб, млн']"
   ]
  },
  {
   "cell_type": "code",
   "execution_count": 11,
   "metadata": {},
   "outputs": [
    {
     "data": {
      "text/plain": [
       "Text(0.5, 1.0, 'Диаграмма рассеяния')"
      ]
     },
     "execution_count": 11,
     "metadata": {},
     "output_type": "execute_result"
    },
    {
     "data": {
      "image/png": "[encoded data removed]",
      "text/plain": [
       "<Figure size 432x288 with 1 Axes>"
      ]
     },
     "metadata": {
      "needs_background": "light"
     },
     "output_type": "display_data"
    }
   ],
   "source": [
    "fig, ax = plt.subplots()\n",
    "plt.scatter(victims, damage)\n",
    "\n",
    "plt.xlabel('Количество пострадавших, чел')\n",
    "plt.ylabel('Материальный ущерб, млн')\n",
    "plt.title('Диаграмма рассеяния')"
   ]
  },
  {
   "cell_type": "code",
   "execution_count": 12,
   "metadata": {},
   "outputs": [],
   "source": [
    "victims = victims.values.reshape(-1,1)\n",
    "damage = damage.values.reshape(-1,1)\n",
    "\n",
    "linreg = LinearRegression()\n",
    "linreg.fit(victims, damage)\n",
    "damage_pred = linreg.predict(victims)\n",
    "\n",
    "a = linreg.intercept_\n",
    "b = linreg.coef_[0]"
   ]
  },
  {
   "cell_type": "code",
   "execution_count": 13,
   "metadata": {},
   "outputs": [
    {
     "data": {
      "image/png": "[encoded data removed]",
      "text/plain": [
       "<Figure size 432x288 with 1 Axes>"
      ]
     },
     "metadata": {
      "needs_background": "light"
     },
     "output_type": "display_data"
    }
   ],
   "source": [
    "plt.scatter(victims, damage)\n",
    "plt.plot(victims, damage_pred,color = 'red', label = 'Y^ = {} + {}*X'.format(*a.round(4),*b.round(4)))\n",
    "\n",
    "plt.xlabel('Количество пострадавших, ед')\n",
    "plt.ylabel('Материальный ущерб, млн')\n",
    "plt.legend()\n",
    "plt.title('Диаграмма рассеяния')\n",
    "plt.show()"
   ]
  },
  {
   "cell_type": "code",
   "execution_count": 14,
   "metadata": {},
   "outputs": [
    {
     "name": "stdout",
     "output_type": "stream",
     "text": [
      "Уравнение ПЛР: Y^ = 783.7097453707411 + 0.3158879533838652*X\n"
     ]
    }
   ],
   "source": [
    "print('Уравнение ПЛР: Y^ = {} + {}*X'.format(*a,*b))"
   ]
  },
  {
   "cell_type": "code",
   "execution_count": 15,
   "metadata": {},
   "outputs": [
    {
     "data": {
      "image/png": "[encoded data removed]",
      "text/plain": [
       "<Figure size 432x288 with 1 Axes>"
      ]
     },
     "metadata": {
      "needs_background": "light"
     },
     "output_type": "display_data"
    }
   ],
   "source": [
    "# график остатков\n",
    "n = [i for i in range(0,len(damage))]\n",
    "E = damage - damage_pred\n",
    "plt.scatter(n, E)\n",
    "\n",
    "plt.ylabel('Остатки')\n",
    "plt.title('График остатков')\n",
    "plt.show()"
   ]
  },
  {
   "cell_type": "code",
   "execution_count": 16,
   "metadata": {},
   "outputs": [],
   "source": [
    "from scipy import stats\n",
    "\n",
    "victims = data['Количество пострадавших, чел']\n",
    "damage = data['Материальный ущерб, млн']\n",
    "\n",
    "slope, intercept, r_value, p_value, std_err = stats.linregress(victims, damage)\n",
    "\n",
    "a = intercept\n",
    "b = slope\n"
   ]
  },
  {
   "cell_type": "code",
   "execution_count": 17,
   "metadata": {},
   "outputs": [],
   "source": [
    "#средняя ошибка аппроксимации\n",
    "\n",
    "victims = data['Количество пострадавших, чел']\n",
    "damage = data['Материальный ущерб, млн']\n",
    "\n",
    "victims = victims.values.reshape(-1,1)\n",
    "damage = damage.values.reshape(-1,1)\n",
    "\n",
    "damage_pred = linreg.predict(victims)\n",
    "\n",
    "A = (sum(abs(damage - damage_pred)/abs(damage))*100)/len(damage)"
   ]
  },
  {
   "cell_type": "code",
   "execution_count": 18,
   "metadata": {},
   "outputs": [
    {
     "name": "stdout",
     "output_type": "stream",
     "text": [
      "Средняя относительная ошибка аппроксимации =  29.24657071061757\n"
     ]
    }
   ],
   "source": [
    "print(\"Средняя относительная ошибка аппроксимации = \", *A)"
   ]
  },
  {
   "cell_type": "code",
   "execution_count": 19,
   "metadata": {},
   "outputs": [],
   "source": [
    "# критерий стьюдента\n",
    "\n",
    "s_res = pow(sum(pow(E, 2))/(len(damage)-2), 0.5)\n",
    "sig_x = pow(sum(pow((victims - np.mean(victims)),2))/len(victims),0.5)\n",
    "\n",
    "m_a = (s_res * pow(sum(pow(victims, 2)),0.5)) / (sig_x*len(victims))\n",
    "m_b = s_res/(sig_x*pow(len(victims),0.5))"
   ]
  },
  {
   "cell_type": "code",
   "execution_count": 20,
   "metadata": {},
   "outputs": [],
   "source": [
    "# вычислим t-статистики\n",
    "m_b = m_b[0]\n",
    "m_a = m_a[0]\n",
    "\n",
    "t_a = intercept/m_a\n",
    "t_b = slope/m_b\n",
    "t_r = ((len(victims)-2) * r_value)/pow(1 - pow(r_value,2), 0.5)"
   ]
  },
  {
   "cell_type": "code",
   "execution_count": 21,
   "metadata": {},
   "outputs": [
    {
     "name": "stdout",
     "output_type": "stream",
     "text": [
      "m_a =  235.17\n",
      "m_b =  0.15\n",
      "t_a =  3.33\n",
      "t_b =  2.12\n",
      "t_r =  17.9\n"
     ]
    }
   ],
   "source": [
    "print(\"m_a = \", round(m_a,2))\n",
    "print(\"m_b = \", round(m_b,2))\n",
    "\n",
    "print(\"t_a = \", round(t_a,2))\n",
    "print(\"t_b = \", round(t_b,2))\n",
    "print(\"t_r = \", round(t_r,2))"
   ]
  },
  {
   "cell_type": "code",
   "execution_count": 22,
   "metadata": {},
   "outputs": [],
   "source": [
    "t_cr = 1.992543495 #t_cr(0,975; 74)\n",
    "#t_b > t_cr, а значит оценка коэффициента b статистически значима\n",
    "#t_a > t_cr, а значит оценка коэффициента a статистически значима"
   ]
  },
  {
   "cell_type": "code",
   "execution_count": 23,
   "metadata": {},
   "outputs": [
    {
     "name": "stdout",
     "output_type": "stream",
     "text": [
      "F_stat =  4.513218007410437 > F_cr =  3.98  => Н0 отклоняется => построение уравнения ПЛР признается статистически значимым\n"
     ]
    }
   ],
   "source": [
    "#критерий фишера\n",
    "\n",
    "r2_score = 1 - sum(pow(damage - damage_pred,2))/sum(pow(damage - np.mean(damage),2))\n",
    "F = r2_score* (len(victims) - 2)/(1 - r2_score)\n",
    "F_cr = 3.98\n",
    "\n",
    "print('F_stat = ', *F, '> F_cr = ', F_cr, ' => Н0 отклоняется => построение уравнения ПЛР признается статистически значимым')"
   ]
  },
  {
   "cell_type": "code",
   "execution_count": 24,
   "metadata": {},
   "outputs": [
    {
     "name": "stdout",
     "output_type": "stream",
     "text": [
      "315.1201041274388 ∈ a ∈ 1252.2993866140437\n",
      "0.01961110360552848 ∈ b ∈ 0.6121648031622016\n"
     ]
    }
   ],
   "source": [
    "# доверительные интервалы для параметров ПЛР\n",
    "\n",
    "print('{} ∈ a ∈ {}'.format(a - (m_a*t_cr), a + (m_a*t_cr)))\n",
    "print('{} ∈ b ∈ {}'.format(b - (m_b*t_cr), b + (m_b*t_cr)))"
   ]
  },
  {
   "cell_type": "code",
   "execution_count": 25,
   "metadata": {},
   "outputs": [],
   "source": [
    "# точечный прогноз значения y для фиксированного x\n",
    "\n",
    "x_fix = victims[30]\n",
    "n = len(victims)\n",
    "\n",
    "y_p = a + b * x_fix\n",
    "m_y = s_res * pow(1 + 1/n + pow((x_fix - np.mean(victims)), 2)/sum(pow(victims - np.mean(victims),2)), 0.5)"
   ]
  },
  {
   "cell_type": "code",
   "execution_count": 26,
   "metadata": {},
   "outputs": [
    {
     "data": {
      "text/plain": [
       "array([468.18673226])"
      ]
     },
     "execution_count": 26,
     "metadata": {},
     "output_type": "execute_result"
    }
   ],
   "source": [
    "m_y"
   ]
  },
  {
   "cell_type": "code",
   "execution_count": 27,
   "metadata": {},
   "outputs": [
    {
     "name": "stdout",
     "output_type": "stream",
     "text": [
      "Реальное значение: 719.972, прогнозное значение: 1288.1828069247738, стандартная ошибка: 78.92123678764922\n",
      "Доверительный интервал для точечного прогноза: 355.3003791229129 ∈ y_p ∈ 2221.0652347266346\n"
     ]
    }
   ],
   "source": [
    "print('Реальное значение: {}, прогнозное значение: {}, стандартная ошибка: {}'.format(*damage[30], *y_p, *abs((damage[30]- y_p)/damage[30]*100)))\n",
    "print('Доверительный интервал для точечного прогноза: {} ∈ y_p ∈ {}'.format(*y_p - m_y*t_cr, *y_p + m_y*t_cr))"
   ]
  },
  {
   "cell_type": "code",
   "execution_count": 28,
   "metadata": {},
   "outputs": [],
   "source": [
    "# Гипотеза о гомоскедастичности наблюдений по методу Гольдфельда-Квандта\n",
    "\n",
    "data_sort = data.sort_values(by = ['Количество пострадавших, чел'])\n",
    "n = len(victims)\n",
    "m = 10\n",
    "\n",
    "l_1 = int((n - m)/2)\n",
    "l_2 = int((n + m)/2 +1)\n",
    "\n",
    "data_1 = data_sort.iloc[1: l_1]\n",
    "data_2 = data_sort.iloc[l_2:n]"
   ]
  },
  {
   "cell_type": "code",
   "execution_count": 29,
   "metadata": {},
   "outputs": [],
   "source": [
    "victims_1 = data_1[['Количество пострадавших, чел']]\n",
    "damage_1 = data_1[['Материальный ущерб, млн']]\n",
    "\n",
    "victims_1 = victims_1.values.reshape(-1,1)\n",
    "damage_1 = damage_1.values.reshape(-1,1)\n",
    "\n",
    "linreg_1 = LinearRegression()\n",
    "linreg_1.fit(victims_1, damage_1)\n",
    "damage_pred_1 = linreg_1.predict(victims_1)"
   ]
  },
  {
   "cell_type": "code",
   "execution_count": 30,
   "metadata": {},
   "outputs": [],
   "source": [
    "victims_2 = data_2[['Количество пострадавших, чел']]\n",
    "damage_2 = data_2[['Материальный ущерб, млн']]\n",
    "\n",
    "victims_2 = victims_2.values.reshape(-1,1)\n",
    "damage_2 = damage_2.values.reshape(-1,1)\n",
    "\n",
    "linreg_2 = LinearRegression()\n",
    "linreg_2.fit(victims_2, damage_2)\n",
    "damage_pred_2 = linreg_2.predict(victims_2)"
   ]
  },
  {
   "cell_type": "code",
   "execution_count": 31,
   "metadata": {},
   "outputs": [
    {
     "name": "stdout",
     "output_type": "stream",
     "text": [
      "F_stat: 1.83 < F_cr: 1.89 => принимается гипотеза о гомоскедастичности\n"
     ]
    }
   ],
   "source": [
    "S_1 = sum(pow(damage_1 - damage_pred_1,2))\n",
    "S_2 = sum(pow(damage_2 - damage_pred_2,2))\n",
    "\n",
    "F_stat = S_2/S_1\n",
    "F_cr = 1.89\n",
    "print(f'F_stat: {round(*F_stat,2)} < F_cr: {F_cr} => принимается гипотеза о гомоскедастичности')"
   ]
  }
 ],
 "metadata": {
  "kernelspec": {
   "display_name": "Python 3",
   "language": "python",
   "name": "python3"
  },
  "language_info": {
   "codemirror_mode": {
    "name": "ipython",
    "version": 3
   },
   "file_extension": ".py",
   "mimetype": "text/x-python",
   "name": "python",
   "nbconvert_exporter": "python",
   "pygments_lexer": "ipython3",
   "version": "3.7.7"
  }
 },
 "nbformat": 4,
 "nbformat_minor": 4
}
